{
 "cells": [
  {
   "cell_type": "code",
   "execution_count": 1,
   "metadata": {},
   "outputs": [],
   "source": [
    "import pandas as pd"
   ]
  },
  {
   "cell_type": "code",
   "execution_count": 3,
   "metadata": {},
   "outputs": [],
   "source": [
    "df = pd.read_csv(\"AirQuality/Dataset/GroundTruth_PM2_5.csv\")"
   ]
  },
  {
   "cell_type": "code",
   "execution_count": 5,
   "metadata": {},
   "outputs": [
    {
     "data": {
      "text/plain": [
       "array(['Uttar Pradesh', 'Gujarat', 'Mizoram', 'Rajasthan',\n",
       "       'Andhra Pradesh', 'Haryana', 'Punjab', 'Bihar', 'West Bengal',\n",
       "       'Karnataka', 'Madhya Pradesh', 'Chhattisgarh', 'Chandigarh',\n",
       "       'Tamil Nadu', 'Delhi', 'Kerala', 'Assam', 'Telangana',\n",
       "       'Maharashtra', 'Nagaland', 'Arunachal Pradesh', 'Puducherry',\n",
       "       'Jammu and Kashmir', 'Odisha'], dtype=object)"
      ]
     },
     "execution_count": 5,
     "metadata": {},
     "output_type": "execute_result"
    }
   ],
   "source": [
    "df['state'].unique()"
   ]
  }
 ],
 "metadata": {
  "kernelspec": {
   "display_name": "diya_env",
   "language": "python",
   "name": "python3"
  },
  "language_info": {
   "codemirror_mode": {
    "name": "ipython",
    "version": 3
   },
   "file_extension": ".py",
   "mimetype": "text/x-python",
   "name": "python",
   "nbconvert_exporter": "python",
   "pygments_lexer": "ipython3",
   "version": "3.13.5"
  }
 },
 "nbformat": 4,
 "nbformat_minor": 2
}
