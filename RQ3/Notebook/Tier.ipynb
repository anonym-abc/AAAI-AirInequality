{
 "cells": [
  {
   "cell_type": "code",
   "execution_count": 1,
   "metadata": {},
   "outputs": [],
   "source": [
    "import pandas as pd"
   ]
  },
  {
   "cell_type": "code",
   "execution_count": 4,
   "metadata": {},
   "outputs": [
    {
     "name": "stdout",
     "output_type": "stream",
     "text": [
      "Index(['city', 'state', 'YearMonth', 'AT', 'BP', 'PM2.5', 'RF', 'VWS', 'WD',\n",
      "       'WS', 'latitude', 'longitude', 'latitude_osm', 'longitude_osm'],\n",
      "      dtype='object')\n",
      "Index(['city', 'Tier'], dtype='object')\n"
     ]
    }
   ],
   "source": [
    "df_gt = pd.read_csv(\"AirQuality/Dataset/GroundTruth_PM2_5.csv\")\n",
    "df_tier = pd.read_csv(\"AirQuality/RQ3/Dataset/city_tire.csv\")\n",
    "\n",
    "print(df_gt.columns)\n",
    "print(df_tier.columns)"
   ]
  },
  {
   "cell_type": "code",
   "execution_count": 5,
   "metadata": {},
   "outputs": [
    {
     "name": "stdout",
     "output_type": "stream",
     "text": [
      "144\n",
      "144\n"
     ]
    }
   ],
   "source": [
    "unique_gt_cities = df_gt[\"city\"].unique()\n",
    "unique_tier_cities = df_tier[\"city\"].unique()\n",
    "\n",
    "common_cities = set(unique_gt_cities) & set(unique_tier_cities)\n",
    "\n",
    "print(len(common_cities))\n",
    "print(len(unique_gt_cities))"
   ]
  },
  {
   "cell_type": "code",
   "execution_count": 6,
   "metadata": {},
   "outputs": [
    {
     "data": {
      "text/html": [
       "<div>\n",
       "<style scoped>\n",
       "    .dataframe tbody tr th:only-of-type {\n",
       "        vertical-align: middle;\n",
       "    }\n",
       "\n",
       "    .dataframe tbody tr th {\n",
       "        vertical-align: top;\n",
       "    }\n",
       "\n",
       "    .dataframe thead th {\n",
       "        text-align: right;\n",
       "    }\n",
       "</style>\n",
       "<table border=\"1\" class=\"dataframe\">\n",
       "  <thead>\n",
       "    <tr style=\"text-align: right;\">\n",
       "      <th></th>\n",
       "      <th>city</th>\n",
       "      <th>state</th>\n",
       "      <th>Tier</th>\n",
       "    </tr>\n",
       "  </thead>\n",
       "  <tbody>\n",
       "    <tr>\n",
       "      <th>0</th>\n",
       "      <td>Agra</td>\n",
       "      <td>Uttar Pradesh</td>\n",
       "      <td>Tier2</td>\n",
       "    </tr>\n",
       "    <tr>\n",
       "      <th>1</th>\n",
       "      <td>Ahmedabad</td>\n",
       "      <td>Gujarat</td>\n",
       "      <td>Tier1</td>\n",
       "    </tr>\n",
       "    <tr>\n",
       "      <th>2</th>\n",
       "      <td>Aizawl</td>\n",
       "      <td>Mizoram</td>\n",
       "      <td>Tier3</td>\n",
       "    </tr>\n",
       "    <tr>\n",
       "      <th>3</th>\n",
       "      <td>Ajmer</td>\n",
       "      <td>Rajasthan</td>\n",
       "      <td>Tier2</td>\n",
       "    </tr>\n",
       "    <tr>\n",
       "      <th>4</th>\n",
       "      <td>Alwar</td>\n",
       "      <td>Rajasthan</td>\n",
       "      <td>Tier3</td>\n",
       "    </tr>\n",
       "    <tr>\n",
       "      <th>...</th>\n",
       "      <td>...</td>\n",
       "      <td>...</td>\n",
       "      <td>...</td>\n",
       "    </tr>\n",
       "    <tr>\n",
       "      <th>139</th>\n",
       "      <td>Vijayapura</td>\n",
       "      <td>Karnataka</td>\n",
       "      <td>Tier2</td>\n",
       "    </tr>\n",
       "    <tr>\n",
       "      <th>140</th>\n",
       "      <td>Visakhapatnam</td>\n",
       "      <td>Andhra Pradesh</td>\n",
       "      <td>Tier2</td>\n",
       "    </tr>\n",
       "    <tr>\n",
       "      <th>141</th>\n",
       "      <td>Vrindavan</td>\n",
       "      <td>Uttar Pradesh</td>\n",
       "      <td>Tier3</td>\n",
       "    </tr>\n",
       "    <tr>\n",
       "      <th>142</th>\n",
       "      <td>Yadgir</td>\n",
       "      <td>Karnataka</td>\n",
       "      <td>Tier3</td>\n",
       "    </tr>\n",
       "    <tr>\n",
       "      <th>143</th>\n",
       "      <td>Yamuna Nagar</td>\n",
       "      <td>Haryana</td>\n",
       "      <td>Tier3</td>\n",
       "    </tr>\n",
       "  </tbody>\n",
       "</table>\n",
       "<p>144 rows × 3 columns</p>\n",
       "</div>"
      ],
      "text/plain": [
       "              city           state   Tier\n",
       "0             Agra   Uttar Pradesh  Tier2\n",
       "1        Ahmedabad         Gujarat  Tier1\n",
       "2           Aizawl         Mizoram  Tier3\n",
       "3            Ajmer       Rajasthan  Tier2\n",
       "4            Alwar       Rajasthan  Tier3\n",
       "..             ...             ...    ...\n",
       "139     Vijayapura       Karnataka  Tier2\n",
       "140  Visakhapatnam  Andhra Pradesh  Tier2\n",
       "141      Vrindavan   Uttar Pradesh  Tier3\n",
       "142         Yadgir       Karnataka  Tier3\n",
       "143   Yamuna Nagar         Haryana  Tier3\n",
       "\n",
       "[144 rows x 3 columns]"
      ]
     },
     "execution_count": 6,
     "metadata": {},
     "output_type": "execute_result"
    }
   ],
   "source": [
    "df_common = df_gt.merge(df_tier,on=\"city\",how=\"inner\")\n",
    "df_common = df_common[[\"city\",\"state\",\"Tier\"]].drop_duplicates().reset_index(drop=True)\n",
    "df_common"
   ]
  }
 ],
 "metadata": {
  "kernelspec": {
   "display_name": "diya_env",
   "language": "python",
   "name": "python3"
  },
  "language_info": {
   "codemirror_mode": {
    "name": "ipython",
    "version": 3
   },
   "file_extension": ".py",
   "mimetype": "text/x-python",
   "name": "python",
   "nbconvert_exporter": "python",
   "pygments_lexer": "ipython3",
   "version": "3.13.5"
  }
 },
 "nbformat": 4,
 "nbformat_minor": 2
}
